{
 "cells": [
  {
   "cell_type": "code",
   "execution_count": 3,
   "metadata": {},
   "outputs": [
    {
     "ename": "ModuleNotFoundError",
     "evalue": "No module named 'together'",
     "output_type": "error",
     "traceback": [
      "\u001b[1;31m---------------------------------------------------------------------------\u001b[0m",
      "\u001b[1;31mModuleNotFoundError\u001b[0m                       Traceback (most recent call last)",
      "Cell \u001b[1;32mIn[3], line 1\u001b[0m\n\u001b[1;32m----> 1\u001b[0m \u001b[38;5;28;01mfrom\u001b[39;00m \u001b[38;5;21;01mtogether\u001b[39;00m \u001b[38;5;28;01mimport\u001b[39;00m Together\n\u001b[0;32m      2\u001b[0m \u001b[38;5;28;01mimport\u001b[39;00m \u001b[38;5;21;01mjson\u001b[39;00m\n\u001b[0;32m      3\u001b[0m \u001b[38;5;28;01mfrom\u001b[39;00m \u001b[38;5;21;01mdotenv\u001b[39;00m \u001b[38;5;28;01mimport\u001b[39;00m load_dotenv\n",
      "\u001b[1;31mModuleNotFoundError\u001b[0m: No module named 'together'"
     ]
    }
   ],
   "source": [
    "from together import Together\n",
    "import json\n",
    "from dotenv import load_dotenv\n",
    "import os\n",
    "load_dotenv()  \n",
    "\n",
    "from llama_index.core import SimpleDirectoryReader\n",
    "\n",
    "from llama_index.core import VectorStoreIndex\n",
    "from llama_index.core.retrievers import QueryFusionRetriever\n"
   ]
  },
  {
   "cell_type": "code",
   "execution_count": 2,
   "metadata": {},
   "outputs": [],
   "source": [
    "class MultiturnRAG:\n",
    "    def __init__(self,model, client, document_path: list, context_length : int = 20):\n",
    "        self.document_path = document_path\n",
    "        self.history = []\n",
    "        self.context_length = context_length\n",
    "        self.model = model\n",
    "        self.client = client\n",
    "\n",
    "    def initial_retriever(self):\n",
    "\n",
    "        all_doc = []\n",
    "        for path in self.document_path:\n",
    "            document = SimpleDirectoryReader(\n",
    "                input_files=[path]\n",
    "            ).load_data()\n",
    "            index = VectorStoreIndex.from_documents(document)\n",
    "            all_doc.append(index)\n",
    "\n",
    "        self.retriever  = QueryFusionRetriever(all_doc, \n",
    "                                               similarity_top_k=2, \n",
    "                                               num_queries=4,  # set this to 1 to disable query generation \n",
    "                                               use_async=True, \n",
    "                                               verbose=True,)\n",
    "\n",
    "\n",
    "    def prepare_context(self, query):\n",
    "\n",
    "        context = self.retriever.retrieve(query, top_k=self.context_length)\n",
    "        return context\n",
    "    \n",
    "    def update_history(self, user_input, bot_response):\n",
    "        self.history.append({\"role\": \"user\", \"content\": user_input})\n",
    "        self.history.append({\"role\": \"assistant\", \"content\": bot_response})\n",
    "        \n",
    "    def generate_response(self, input, context):\n",
    "        message = [{\"role\": \"system\", \"content\": \"You are a helpful assistant. You communicate in Thai language.\"}]\n",
    "\n",
    "        for history in self.history:\n",
    "            message.append(history)\n",
    "\n",
    "        message.append({\"role\": \"user\", \"content\": input})\n",
    "        print(message)\n",
    "\n",
    "        response = self.client.chat.completions.create(\n",
    "            model=self.model,\n",
    "            messages=message,\n",
    "            max_tokens=64,\n",
    "            temperature=0.7,\n",
    "            top_p=0.7,\n",
    "            top_k=50,\n",
    "            repetition_penalty=1,\n",
    "            stop=[\"[/INST]\",\"</s>\"],\n",
    "        )\n",
    "        print(\"Get response\")\n",
    "\n",
    "        return dict(dict(dict(response)['choices'][0])['message'])['content'].split(\"im_end\")[0].replace(\"im_start\", \"\").replace(\"assistant\",\"\").replace(\"<\",\"\").replace(\">\",\"\").replace(\"|\",\"\")\n",
    "            \n",
    "    def get_response(self, user_input):\n",
    "        response = self.generate_response(input = user_input, context=\"Normal Conversation\")\n",
    "        self.update_history(user_input = user_input,bot_response = response)\n",
    "        return response\n"
   ]
  },
  {
   "cell_type": "code",
   "execution_count": null,
   "metadata": {},
   "outputs": [],
   "source": [
    "document = [\"./doc/attention.pdf\"]\n",
    "    model = \"meta-llama/Meta-Llama-3-8B-Instruct-Lite\"\n",
    "    #Use for get api with llm\n",
    "    client = Together(api_key=os.environ.get('TOGETHER_API_KEY'))\n",
    "    # Start RAG OOP\n",
    "    rag = MultiturnRAG(document_path=document, model=model, client=client)\n",
    "    Input = \" \"\n",
    "    print(\"Start : \\n\")\n",
    "    while(Input != \"Exit\"):\n",
    "        Input = str(input())\n",
    "        response = rag.get_response(Input)\n",
    "        print(response)\n"
   ]
  },
  {
   "cell_type": "code",
   "execution_count": 11,
   "metadata": {},
   "outputs": [
    {
     "name": "stdout",
     "output_type": "stream",
     "text": [
      "Installed kernelspec env_llama in C:\\Users\\ชยพัทธ์\\AppData\\Roaming\\jupyter\\kernels\\env_llama\n"
     ]
    }
   ],
   "source": [
    "!python -m ipykernel install --user --name=env_llama"
   ]
  }
 ],
 "metadata": {
  "kernelspec": {
   "display_name": "Python 3",
   "language": "python",
   "name": "python3"
  },
  "language_info": {
   "codemirror_mode": {
    "name": "ipython",
    "version": 3
   },
   "file_extension": ".py",
   "mimetype": "text/x-python",
   "name": "python",
   "nbconvert_exporter": "python",
   "pygments_lexer": "ipython3",
   "version": "3.12.6"
  }
 },
 "nbformat": 4,
 "nbformat_minor": 2
}
